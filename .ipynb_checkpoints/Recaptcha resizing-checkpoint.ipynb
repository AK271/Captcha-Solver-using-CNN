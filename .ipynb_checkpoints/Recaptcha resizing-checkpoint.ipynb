{
 "cells": [
  {
   "cell_type": "code",
   "execution_count": 1,
   "metadata": {},
   "outputs": [],
   "source": [
    "from PIL import Image"
   ]
  },
  {
   "cell_type": "code",
   "execution_count": 2,
   "metadata": {},
   "outputs": [],
   "source": [
    "image=Image.open('2a2yx.jpg')"
   ]
  },
  {
   "cell_type": "code",
   "execution_count": 3,
   "metadata": {},
   "outputs": [
    {
     "name": "stdout",
     "output_type": "stream",
     "text": [
      "JPEG\n",
      "RGB\n",
      "(160, 80)\n"
     ]
    }
   ],
   "source": [
    "print(image.format)\n",
    "print(image.mode)\n",
    "print(image.size)\n",
    "# show the image\n",
    "image.show()"
   ]
  },
  {
   "cell_type": "code",
   "execution_count": 4,
   "metadata": {},
   "outputs": [
    {
     "name": "stdout",
     "output_type": "stream",
     "text": [
      "(257, 257)\n"
     ]
    }
   ],
   "source": [
    "image_resize = image.resize((257, 257))\n",
    "print(image_resize.size)\n",
    "image_resize.show()"
   ]
  },
  {
   "cell_type": "code",
   "execution_count": 5,
   "metadata": {},
   "outputs": [],
   "source": [
    "def make_square(im, min_size=256, fill_color=(0, 0, 0, 0)):\n",
    "    x, y = im.size\n",
    "    size = max(min_size, x, y)\n",
    "    new_im = Image.new('RGBA', (256, 256), fill_color)\n",
    "    new_im.paste(im, (int((size - x) / 2), int((size - y) / 2)))\n",
    "    return new_im"
   ]
  },
  {
   "cell_type": "code",
   "execution_count": 6,
   "metadata": {},
   "outputs": [],
   "source": [
    "test_image = Image.open('2a2yx.jpg')\n",
    "new_image = make_square(test_image)\n",
    "new_image.show()"
   ]
  },
  {
   "cell_type": "code",
   "execution_count": 7,
   "metadata": {},
   "outputs": [],
   "source": [
    "from PIL import Image, ImageOps\n",
    "\n",
    "desired_size = 257\n",
    "im_pth = \"2a2yx.jpg\"\n",
    "\n",
    "im = Image.open(im_pth)\n",
    "old_size = im.size  # old_size[0] is in (width, height) format\n",
    "\n",
    "ratio = float(desired_size)/max(old_size)\n",
    "new_size = tuple([int(x*ratio) for x in old_size])\n",
    "# use thumbnail() or resize() method to resize the input image\n",
    "\n",
    "# thumbnail is a in-place operation\n",
    "\n",
    "# im.thumbnail(new_size, Image.ANTIALIAS)\n",
    "\n",
    "im = im.resize(new_size, Image.ANTIALIAS)\n",
    "# create a new image and paste the resized on it\n",
    "\n",
    "new_im = Image.new(\"RGB\", (desired_size, desired_size))\n",
    "new_im.paste(im, ((desired_size-new_size[0])//2,\n",
    "                    (desired_size-new_size[1])//2))\n",
    "\n",
    "new_im.show()"
   ]
  },
  {
   "cell_type": "code",
   "execution_count": null,
   "metadata": {},
   "outputs": [],
   "source": []
  }
 ],
 "metadata": {
  "kernelspec": {
   "display_name": "Python 3",
   "language": "python",
   "name": "python3"
  },
  "language_info": {
   "codemirror_mode": {
    "name": "ipython",
    "version": 3
   },
   "file_extension": ".py",
   "mimetype": "text/x-python",
   "name": "python",
   "nbconvert_exporter": "python",
   "pygments_lexer": "ipython3",
   "version": "3.8.5"
  }
 },
 "nbformat": 4,
 "nbformat_minor": 4
}
