{
 "cells": [
  {
   "cell_type": "code",
   "execution_count": 1,
   "id": "excess-continuity",
   "metadata": {},
   "outputs": [],
   "source": [
    "import numpy as np\n",
    "import pandas as pd\n",
    "import matplotlib.pyplot as plt\n",
    "import tensorflow as tf\n",
    "from tensorflow import keras\n",
    "from keras.models import Sequential\n",
    "from keras.layers import Conv2D,MaxPooling2D,Flatten,Dense,Dropout,Activation\n",
    "from keras.layers.normalization import BatchNormalization\n",
    "from tensorflow.keras import datasets, layers, models\n",
    "from tensorflow.keras.models import Model\n",
    "from tensorflow.keras.optimizers import SGD\n",
    "from keras.utils import to_categorical\n",
    "import PIL \n",
    "import os\n",
    "import cv2\n",
    "from PIL import Image \n",
    "from numpy import asarray \n",
    "import matplotlib.pyplot as plt"
   ]
  },
  {
   "cell_type": "code",
   "execution_count": 2,
   "id": "elegant-federation",
   "metadata": {},
   "outputs": [],
   "source": [
    "directory  = \"./DataSet\""
   ]
  },
  {
   "cell_type": "code",
   "execution_count": 3,
   "id": "lesser-florist",
   "metadata": {},
   "outputs": [],
   "source": [
    "len_of_word = 5"
   ]
  },
  {
   "cell_type": "code",
   "execution_count": 4,
   "id": "wrapped-conservative",
   "metadata": {},
   "outputs": [
    {
     "name": "stdout",
     "output_type": "stream",
     "text": [
      "['0', '1', '2', '3', '4', '5', '6', '7', '8', '9', 'a', 'b', 'c', 'd', 'e', 'f', 'g', 'h', 'i', 'j', 'k', 'l', 'm', 'n', 'o', 'p', 'q', 'r', 's', 't', 'u', 'v', 'w', 'x', 'y', 'z']\n"
     ]
    }
   ],
   "source": [
    "vec =[]\n",
    "c = '0'\n",
    "for i in range (10):\n",
    "    vec.append(c)\n",
    "    c = chr(ord(c) + 1) \n",
    "c = 'a'\n",
    "for i in range (26):\n",
    "    vec.append(c)    \n",
    "    c = chr(ord(c) + 1)\n",
    "print(vec)"
   ]
  },
  {
   "cell_type": "code",
   "execution_count": 5,
   "id": "competitive-cathedral",
   "metadata": {},
   "outputs": [],
   "source": [
    "def class_indices(label):\n",
    "    ans = np.zeros(len(label))\n",
    "    j = 0\n",
    "    for ind in label:\n",
    "        for i in range (36):\n",
    "            if(vec[i]==ind):\n",
    "                ans[j] = i\n",
    "                j+=1\n",
    "                break\n",
    "    #ans = np.asarray(ans).astype('float32')\n",
    "    #print(ans)\n",
    "    return ans"
   ]
  },
  {
   "cell_type": "code",
   "execution_count": 6,
   "id": "front-burke",
   "metadata": {},
   "outputs": [],
   "source": [
    "def parse_filepath(filepath):\n",
    "    path, filename = os.path.split(filepath)\n",
    "    filename, ext = os.path.splitext(filename)\n",
    "    label = filename.split(\"_\")\n",
    "    p = class_indices(label)\n",
    "    cnt=0\n",
    "    return label"
   ]
  },
  {
   "cell_type": "code",
   "execution_count": 7,
   "id": "conceptual-leeds",
   "metadata": {},
   "outputs": [
    {
     "data": {
      "text/html": [
       "<div>\n",
       "<style scoped>\n",
       "    .dataframe tbody tr th:only-of-type {\n",
       "        vertical-align: middle;\n",
       "    }\n",
       "\n",
       "    .dataframe tbody tr th {\n",
       "        vertical-align: top;\n",
       "    }\n",
       "\n",
       "    .dataframe thead th {\n",
       "        text-align: right;\n",
       "    }\n",
       "</style>\n",
       "<table border=\"1\" class=\"dataframe\">\n",
       "  <thead>\n",
       "    <tr style=\"text-align: right;\">\n",
       "      <th></th>\n",
       "      <th>labels</th>\n",
       "      <th>filepath</th>\n",
       "    </tr>\n",
       "  </thead>\n",
       "  <tbody>\n",
       "    <tr>\n",
       "      <th>0</th>\n",
       "      <td>2a6y6</td>\n",
       "      <td>./DataSet/2a6y6.jpg</td>\n",
       "    </tr>\n",
       "    <tr>\n",
       "      <th>1</th>\n",
       "      <td>2a2yx</td>\n",
       "      <td>./DataSet/2a2yx.jpg</td>\n",
       "    </tr>\n",
       "    <tr>\n",
       "      <th>2</th>\n",
       "      <td>2a5pf</td>\n",
       "      <td>./DataSet/2a5pf.jpg</td>\n",
       "    </tr>\n",
       "    <tr>\n",
       "      <th>3</th>\n",
       "      <td>2a5cn</td>\n",
       "      <td>./DataSet/2a5cn.jpg</td>\n",
       "    </tr>\n",
       "    <tr>\n",
       "      <th>4</th>\n",
       "      <td>2a6yy</td>\n",
       "      <td>./DataSet/2a6yy.jpg</td>\n",
       "    </tr>\n",
       "  </tbody>\n",
       "</table>\n",
       "</div>"
      ],
      "text/plain": [
       "  labels             filepath\n",
       "0  2a6y6  ./DataSet/2a6y6.jpg\n",
       "1  2a2yx  ./DataSet/2a2yx.jpg\n",
       "2  2a5pf  ./DataSet/2a5pf.jpg\n",
       "3  2a5cn  ./DataSet/2a5cn.jpg\n",
       "4  2a6yy  ./DataSet/2a6yy.jpg"
      ]
     },
     "execution_count": 7,
     "metadata": {},
     "output_type": "execute_result"
    }
   ],
   "source": [
    "import glob\n",
    "\n",
    "\n",
    "files = glob.glob(os.path.join(directory,\"*.jpg\"))\n",
    "# print(files)\n",
    "labels = list(files)\n",
    "labels = list(map(parse_filepath,files))\n",
    "# print(labels)\n",
    "df = pd.DataFrame(labels)\n",
    "df['filepath'] = files\n",
    "df.columns = ['labels','filepath']\n",
    "df.dropna()\n",
    "df.head()\n",
    "#df.describe()"
   ]
  },
  {
   "cell_type": "code",
   "execution_count": 8,
   "id": "acute-empty",
   "metadata": {},
   "outputs": [],
   "source": [
    "def pass_Data(df,indices,training_bool,batch_size=16):\n",
    "    images = []\n",
    "    labels = []\n",
    "    while True:\n",
    "        for i in indices:\n",
    "            r = df.iloc[i]\n",
    "            file, label = r['filepath'], r['labels']\n",
    "            #print(label)\n",
    "            im = Image.open(file)\n",
    "            im = im.resize((227, 227))\n",
    "            im = np.array(im) / 255.0\n",
    "            images.append(np.array(im))\n",
    "            # 2a341 = (2,11,3,4,1)\n",
    "            l = to_categorical(class_indices(label),36)\n",
    "            labels = np.append(labels,l)\n",
    "            # 9*36*5\n",
    "            #(9*36*5,)\n",
    "            #(9,36*5)\n",
    "            if len(images) >= batch_size:\n",
    "                row = int((int(labels.shape[0]))/(36*len_of_word))\n",
    "                col = int((int(labels.shape[0]))/(row))          \n",
    "                labels = labels.reshape(row,col)\n",
    "                yield np.array(images), np.array(labels)\n",
    "                images, labels = [], []\n",
    "        if not training_bool:\n",
    "            break"
   ]
  },
  {
   "cell_type": "code",
   "execution_count": 9,
   "id": "normal-pixel",
   "metadata": {},
   "outputs": [],
   "source": [
    "# Test place #\n",
    "# images = []\n",
    "# labels = []\n",
    "# for i in range(len(df)):\n",
    "#     r = df.iloc[i]\n",
    "#     file, label = r['filepath'], r['labels']\n",
    "#     #print(label)\n",
    "#     l = to_categorical(class_indices(label),36)\n",
    "#     labels = np.append(labels,l)\n",
    "#     #labels = np.asarray(labels)\n",
    "# print(labels.shape)\n",
    "# row = int((int(labels.shape[0]))/(36*len_of_word))\n",
    "# col = int((int(labels.shape[0]))/(row))          \n",
    "# labels = labels.reshape(row,col)\n",
    "# print(labels.shape)"
   ]
  },
  {
   "cell_type": "code",
   "execution_count": 10,
   "id": "weekly-slave",
   "metadata": {},
   "outputs": [
    {
     "name": "stdout",
     "output_type": "stream",
     "text": [
      "train count: 5, valid count: 2, test count: 2\n"
     ]
    }
   ],
   "source": [
    "# Splitting the data set into test train and validation set\n",
    "\n",
    "p = np.random.permutation(len(df)) # random images are distributed.\n",
    "train_up_to = int(len(df) * 0.8) # the train and the test set is divided into 80:20 \n",
    "train_idx = p[:train_up_to]\n",
    "test_idx = p[train_up_to:]\n",
    "\n",
    "# split train_idx further into training and validation set\n",
    "train_up_to = int(train_up_to * 0.8) # the train set is further divided into the validation and the training data set\n",
    "train_idx, valid_idx = train_idx[:train_up_to], train_idx[train_up_to:]\n",
    "\n",
    "print('train count: %s, valid count: %s, test count: %s' % (\n",
    "    len(train_idx), len(valid_idx), len(test_idx)))"
   ]
  },
  {
   "cell_type": "code",
   "execution_count": 11,
   "id": "quarterly-playback",
   "metadata": {},
   "outputs": [],
   "source": [
    "#  Generating the test and the validation data \n",
    "\n",
    "batch_size = 2# insert Number\n",
    "valid_batch_size = 1 #inset Number \n",
    "\n",
    "# def pass_Data(df,indices,training_bool,batch_size=16)\n",
    "train_gen = pass_Data(df,train_idx,True,batch_size = batch_size)\n",
    "validation_gen = pass_Data(df,valid_idx,True,batch_size = valid_batch_size)\n",
    "test_gen = pass_Data(df, test_idx, training_bool=True, batch_size=1)"
   ]
  },
  {
   "cell_type": "code",
   "execution_count": 12,
   "id": "charitable-internet",
   "metadata": {},
   "outputs": [
    {
     "name": "stdout",
     "output_type": "stream",
     "text": [
      "2 2\n"
     ]
    }
   ],
   "source": [
    "# To calculate the validation and the training steps\n",
    "\n",
    "validation_steps = (len(valid_idx)//valid_batch_size)\n",
    "train_steps = (len(train_idx)//batch_size)\n",
    "print(validation_steps,train_steps)"
   ]
  },
  {
   "cell_type": "code",
   "execution_count": 13,
   "id": "amateur-chaos",
   "metadata": {},
   "outputs": [],
   "source": [
    "score = 0"
   ]
  },
  {
   "cell_type": "code",
   "execution_count": 14,
   "id": "thermal-florist",
   "metadata": {},
   "outputs": [],
   "source": [
    "#  Alex_net Model making\n",
    "def Alex_net():\n",
    "#     THe input shape is always 257*257*3 or 256*256*3 and the images should be reshaped into it, if it is not that currently\n",
    "    image_shape = (227,227,3)\n",
    "    np.random.seed(1000)\n",
    "    model = Sequential()\n",
    "#     First Layer which is the convolution Layer\n",
    "    model.add(Conv2D(filters = 96,input_shape = image_shape,kernel_size=(11,11),strides=(4,4),padding = 'valid'))\n",
    "    model.add(Activation('relu'))\n",
    "#     Next is the Pooling layer\n",
    "    model.add(MaxPooling2D(pool_size=(3,3), strides=(2,2), padding = 'valid'))\n",
    "\n",
    "#     The first convolution and max pooling layer is done .\n",
    "\n",
    "#     Second Layer \n",
    "    model.add(Conv2D(filters = 256,kernel_size=(5,5),strides=(1,1),padding = 'valid'))\n",
    "    model.add(Activation('relu'))\n",
    "#     Next is the Pooling layer\n",
    "    model.add(MaxPooling2D(pool_size=(3,3), strides=(2,2), padding = 'valid'))\n",
    "    \n",
    "#     Second Layer Done \n",
    "\n",
    "#     Third Layer is only the convolution layer. There is no maxPooling layer at all\n",
    "\n",
    "    model.add(Conv2D(filters = 384,kernel_size=(3,3),strides=(1,1),padding = 'valid'))\n",
    "    model.add(Activation('relu'))\n",
    "\n",
    "# Fourth layer- only convolution layer\n",
    "    \n",
    "    model.add(Conv2D(filters = 384,kernel_size=(3,3),strides=(1,1),padding = 'valid'))\n",
    "    model.add(Activation('relu'))\n",
    "    \n",
    "# Fifth layer- one convolution and one pooling layer\n",
    "    model.add(Conv2D(filters = 256,kernel_size=(3,3),strides=(1,1),padding = 'valid'))\n",
    "    model.add(Activation('relu'))\n",
    "    \n",
    "    model.add(MaxPooling2D(pool_size=(3,3), strides=(2,2), padding = 'valid'))\n",
    "\n",
    "        \n",
    "    model.add(Flatten())\n",
    "# Sixth fully connected layer\n",
    "    model.add(Dense(4096))\n",
    "    model.add(Activation('relu'))\n",
    "    model.add(Dropout(0.4))\n",
    "    \n",
    "#Seventh fully connected layer\n",
    "    model.add(Flatten())\n",
    "    model.add(Dense(4096))\n",
    "    model.add(Activation('relu'))\n",
    "    model.add(Dropout(0.4))\n",
    "    \n",
    "#Final softmax layer\n",
    "    model.add(Dense(36*5))\n",
    "#     model.resize()\n",
    "    model.add(Activation('softmax'))\n",
    "    \n",
    "    model.summary()\n",
    "    model.compile(loss=keras.losses.categorical_crossentropy, optimizer='adam', metrics=[\"accuracy\"])\n",
    "    \n",
    "    \n",
    "    return model"
   ]
  },
  {
   "cell_type": "code",
   "execution_count": 15,
   "id": "nervous-profile",
   "metadata": {},
   "outputs": [
    {
     "name": "stdout",
     "output_type": "stream",
     "text": [
      "Model: \"sequential\"\n",
      "_________________________________________________________________\n",
      "Layer (type)                 Output Shape              Param #   \n",
      "=================================================================\n",
      "conv2d (Conv2D)              (None, 55, 55, 96)        34944     \n",
      "_________________________________________________________________\n",
      "activation (Activation)      (None, 55, 55, 96)        0         \n",
      "_________________________________________________________________\n",
      "max_pooling2d (MaxPooling2D) (None, 27, 27, 96)        0         \n",
      "_________________________________________________________________\n",
      "conv2d_1 (Conv2D)            (None, 23, 23, 256)       614656    \n",
      "_________________________________________________________________\n",
      "activation_1 (Activation)    (None, 23, 23, 256)       0         \n",
      "_________________________________________________________________\n",
      "max_pooling2d_1 (MaxPooling2 (None, 11, 11, 256)       0         \n",
      "_________________________________________________________________\n",
      "conv2d_2 (Conv2D)            (None, 9, 9, 384)         885120    \n",
      "_________________________________________________________________\n",
      "activation_2 (Activation)    (None, 9, 9, 384)         0         \n",
      "_________________________________________________________________\n",
      "conv2d_3 (Conv2D)            (None, 7, 7, 384)         1327488   \n",
      "_________________________________________________________________\n",
      "activation_3 (Activation)    (None, 7, 7, 384)         0         \n",
      "_________________________________________________________________\n",
      "conv2d_4 (Conv2D)            (None, 5, 5, 256)         884992    \n",
      "_________________________________________________________________\n",
      "activation_4 (Activation)    (None, 5, 5, 256)         0         \n",
      "_________________________________________________________________\n",
      "max_pooling2d_2 (MaxPooling2 (None, 2, 2, 256)         0         \n",
      "_________________________________________________________________\n",
      "flatten (Flatten)            (None, 1024)              0         \n",
      "_________________________________________________________________\n",
      "dense (Dense)                (None, 4096)              4198400   \n",
      "_________________________________________________________________\n",
      "activation_5 (Activation)    (None, 4096)              0         \n",
      "_________________________________________________________________\n",
      "dropout (Dropout)            (None, 4096)              0         \n",
      "_________________________________________________________________\n",
      "flatten_1 (Flatten)          (None, 4096)              0         \n",
      "_________________________________________________________________\n",
      "dense_1 (Dense)              (None, 4096)              16781312  \n",
      "_________________________________________________________________\n",
      "activation_6 (Activation)    (None, 4096)              0         \n",
      "_________________________________________________________________\n",
      "dropout_1 (Dropout)          (None, 4096)              0         \n",
      "_________________________________________________________________\n",
      "dense_2 (Dense)              (None, 180)               737460    \n",
      "_________________________________________________________________\n",
      "activation_7 (Activation)    (None, 180)               0         \n",
      "=================================================================\n",
      "Total params: 25,464,372\n",
      "Trainable params: 25,464,372\n",
      "Non-trainable params: 0\n",
      "_________________________________________________________________\n"
     ]
    }
   ],
   "source": [
    "model = Alex_net()"
   ]
  },
  {
   "cell_type": "code",
   "execution_count": 16,
   "id": "matched-analysis",
   "metadata": {},
   "outputs": [
    {
     "name": "stdout",
     "output_type": "stream",
     "text": [
      "Epoch 1/2\n",
      "2/2 [==============================] - 2s 814ms/step - loss: 23.9972 - accuracy: 0.1667 - val_loss: 462.0040 - val_accuracy: 1.0000\n",
      "Epoch 2/2\n",
      "2/2 [==============================] - 1s 299ms/step - loss: 1233.8461 - accuracy: 0.5000 - val_loss: 21287.6953 - val_accuracy: 1.0000\n"
     ]
    }
   ],
   "source": [
    "History = model.fit(train_gen,steps_per_epoch= train_steps,epochs = 2,validation_data = validation_gen, validation_steps = validation_steps)"
   ]
  },
  {
   "cell_type": "code",
   "execution_count": 17,
   "id": "documented-zambia",
   "metadata": {},
   "outputs": [
    {
     "data": {
      "text/plain": [
       "<matplotlib.legend.Legend at 0x7f99b0601c10>"
      ]
     },
     "execution_count": 17,
     "metadata": {},
     "output_type": "execute_result"
    },
    {
     "data": {
      "image/png": "[encoded data removed]",
      "text/plain": [
       "<Figure size 432x288 with 2 Axes>"
      ]
     },
     "metadata": {
      "needs_background": "light"
     },
     "output_type": "display_data"
    }
   ],
   "source": [
    "f,ax=plt.subplots(2,1)\n",
    "ax[0].plot(History.history['loss'],color='b',label='Training Loss')\n",
    "ax[0].plot(History.history['val_loss'],color='r',label='Validation Loss')\n",
    "\n",
    "ax[1].plot(History.history['accuracy'],color='b',label='Training  Accuracy')\n",
    "ax[1].plot(History.history['val_accuracy'],color='r',label='Validation Accuracy')\n",
    "\n",
    "plt.legend()"
   ]
  },
  {
   "cell_type": "code",
   "execution_count": 29,
   "id": "american-national",
   "metadata": {},
   "outputs": [
    {
     "name": "stdout",
     "output_type": "stream",
     "text": [
      "12/12 [==============================] - 0s 28ms/step - loss: 24236.6641 - accuracy: 1.0000\n",
      "Test loss: 24236.6640625\n",
      "Test accuracy: 1.0\n"
     ]
    }
   ],
   "source": [
    "score = model.evaluate(test_gen,steps = 12)\n",
    "print('Test loss:', score[0])\n",
    "print('Test accuracy:', score[1])"
   ]
  },
  {
   "cell_type": "code",
   "execution_count": 19,
   "id": "chubby-command",
   "metadata": {},
   "outputs": [],
   "source": [
    "# for i in test_gen:\n",
    "#     print(i)"
   ]
  },
  {
   "cell_type": "code",
   "execution_count": null,
   "id": "built-burst",
   "metadata": {},
   "outputs": [],
   "source": []
  }
 ],
 "metadata": {
  "kernelspec": {
   "display_name": "Python 3",
   "language": "python",
   "name": "python3"
  },
  "language_info": {
   "codemirror_mode": {
    "name": "ipython",
    "version": 3
   },
   "file_extension": ".py",
   "mimetype": "text/x-python",
   "name": "python",
   "nbconvert_exporter": "python",
   "pygments_lexer": "ipython3",
   "version": "3.8.5"
  }
 },
 "nbformat": 4,
 "nbformat_minor": 5
}
