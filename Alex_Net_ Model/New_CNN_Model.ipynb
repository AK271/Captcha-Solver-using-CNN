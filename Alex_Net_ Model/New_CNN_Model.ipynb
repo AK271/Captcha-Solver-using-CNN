{
  "nbformat": 4,
  "nbformat_minor": 5,
  "metadata": {
    "kernelspec": {
      "display_name": "Python 3",
      "language": "python",
      "name": "python3"
    },
    "language_info": {
      "codemirror_mode": {
        "name": "ipython",
        "version": 3
      },
      "file_extension": ".py",
      "mimetype": "text/x-python",
      "name": "python",
      "nbconvert_exporter": "python",
      "pygments_lexer": "ipython3",
      "version": "3.8.5"
    },
    "colab": {
      "name": "Alex_net_Archietecture_Final.ipynb",
      "provenance": []
    },
    "accelerator": "TPU"
  },
  "cells": [
    {
      "cell_type": "code",
      "metadata": {
        "colab": {
          "base_uri": "https://localhost:8080/"
        },
        "id": "1Liq8aBKycpK",
        "outputId": "09d2ad16-bd72-4196-d280-1c015cc184bc"
      },
      "source": [
        "from google.colab import drive\r\n",
        "drive.mount('/content/drive')"
      ],
      "id": "1Liq8aBKycpK",
      "execution_count": 8,
      "outputs": [
        {
          "output_type": "stream",
          "text": [
            "Mounted at /content/drive\n"
          ],
          "name": "stdout"
        }
      ]
    },
    {
      "cell_type": "code",
      "metadata": {
        "id": "continuous-singing"
      },
      "source": [
        "%tensorflow_version 1.x\n",
        "from __future__ import division\n",
        "import tensorflow as tf\n",
        "import matplotlib.pyplot as plt\n",
        "from imageio import imread\n",
        "import numpy as np\n",
        "import time\n",
        "import os"
      ],
      "id": "continuous-singing",
      "execution_count": 13,
      "outputs": []
    },
    {
      "cell_type": "markdown",
      "metadata": {
        "id": "XYQQdJzFEhib"
      },
      "source": [
        "**g**"
      ],
      "id": "XYQQdJzFEhib"
    },
    {
      "cell_type": "code",
      "metadata": {
        "id": "f-FY6-PRyiX0"
      },
      "source": [
        "CHAR_VOCAB_SIZE = 36 # Each char in the word can either be a digit 0-9 or a letter a-z giving a total of 36 pssible characters.\n",
        "WORD_SIZE =5\n",
        "IMAGE_WIDTH = 152\n",
        "IMAGE_HEIGHT = 80\n",
        "CAPTCHA_LENGTH = 5\n",
        "NUM_CLASSES = 36\n",
        "NUM_EXAMPLES_PER_EPOCH_FOR_TRAIN = 1000\n",
        "NUM_EXAMPLES_PER_EPOCH_FOR_EVAL = 100\n",
        "training_folder = \"/content/drive/MyDrive/Data Images/imgs/\"\n",
        "testing_folder = \"/content/drive/MyDrive/Data Images/test_imgs/\""
      ],
      "id": "f-FY6-PRyiX0",
      "execution_count": 42,
      "outputs": []
    },
    {
      "cell_type": "code",
      "metadata": {
        "id": "cmUHlIGD6W-M"
      },
      "source": [
        "def char_to_vec_pos(char):\r\n",
        "    \"\"\"\r\n",
        "    Vector representation of length 36.\r\n",
        "    First 10 positions are for digits 0-9\r\n",
        "    Position 11-36 are for alphabets a-z\r\n",
        "    :param char\r\n",
        "    :return: returns the position of the char in the vector coding\r\n",
        "    \"\"\"\r\n",
        "    ascii_val = ord(char)\r\n",
        "    if ascii_val >= 48 and ascii_val<=57:\r\n",
        "        return ascii_val-48\r\n",
        "    if ascii_val >= 97 and ascii_val <=122:\r\n",
        "        return (ascii_val-97)+10\r\n",
        "    raise ValueError('Wrong character {}'.format(char))"
      ],
      "id": "cmUHlIGD6W-M",
      "execution_count": 48,
      "outputs": []
    },
    {
      "cell_type": "code",
      "metadata": {
        "id": "LhvP3daP6Jnx"
      },
      "source": [
        "def words_to_vec(word):\r\n",
        "    \"\"\"\r\n",
        "    :param word: string of length 5 to be converted into vector\r\n",
        "    :return: len*36 vector representation of word.\r\n",
        "    \"\"\"\r\n",
        "    # print word\r\n",
        "    word_len = len(word)\r\n",
        "    vec = np.zeros(word_len * CHAR_VOCAB_SIZE)\r\n",
        "    #print len(vec)\r\n",
        "\r\n",
        "    for i,char in enumerate(word):\r\n",
        "        idx = (i*CHAR_VOCAB_SIZE)+char_to_vec_pos(char)\r\n",
        "        vec[idx]=1\r\n",
        "    return vec"
      ],
      "id": "LhvP3daP6Jnx",
      "execution_count": 49,
      "outputs": []
    },
    {
      "cell_type": "code",
      "metadata": {
        "id": "Pg4YWLcezxQP"
      },
      "source": [
        "def load_dataset(folder, fromPos, toPos):\r\n",
        "    file_list = os.listdir(folder)\r\n",
        "\r\n",
        "    X = np.zeros([toPos - fromPos, IMAGE_HEIGHT * IMAGE_WIDTH])\r\n",
        "    Y = np.zeros([toPos - fromPos, 5 * NUM_CLASSES])\r\n",
        "\r\n",
        "    for i, filename in enumerate(file_list[fromPos:toPos]):\r\n",
        "        path = folder + filename\r\n",
        "        img = imread(path, as_gray=True)\r\n",
        "\r\n",
        "        captcha_text = filename[0:CAPTCHA_LENGTH]\r\n",
        "\r\n",
        "        X[i, :] = img.flatten()\r\n",
        "        Y[i, :] = words_to_vec(captcha_text)\r\n",
        "\r\n",
        "    X = normalize_data(X)\r\n",
        "    return X, Y"
      ],
      "id": "Pg4YWLcezxQP",
      "execution_count": 50,
      "outputs": []
    },
    {
      "cell_type": "code",
      "metadata": {
        "id": "dn80sVxS9uim"
      },
      "source": [
        "def vec_to_word(vector):\r\n",
        "    \"\"\"\r\n",
        "    :param vector: vector representation of word\r\n",
        "    :return: string representation of the word\r\n",
        "    \"\"\"\r\n",
        "    char_indices = vector.nonzero()[0]\r\n",
        "    word = list()\r\n",
        "\r\n",
        "    for idx in char_indices:\r\n",
        "        vocab_idx = idx% CHAR_VOCAB_SIZE\r\n",
        "\r\n",
        "        if vocab_idx < 10: # 0-9\r\n",
        "            char_code = vocab_idx+ord('0')\r\n",
        "        elif vocab_idx <= 35: # a-z\r\n",
        "            char_code =  (vocab_idx - 10) + ord('a')\r\n",
        "        else:\r\n",
        "            raise ValueError(\"Incorrect character code\")\r\n",
        "\r\n",
        "        word.append(chr(char_code))\r\n",
        "\r\n",
        "    return \"\".join(word)"
      ],
      "id": "dn80sVxS9uim",
      "execution_count": 71,
      "outputs": []
    },
    {
      "cell_type": "code",
      "metadata": {
        "id": "Uv8H97kl9p7u"
      },
      "source": [
        "def prediction_to_word(prediction_vector):\r\n",
        "    \"\"\"\r\n",
        "    function to convert a prediction vector to captcha word\r\n",
        "    :param prediction_vector: a [WORD_SIZE,CHAR_VOCAB_SIZE] np array of predictions\r\n",
        "    :return: the string representing the word\r\n",
        "    \"\"\"\r\n",
        "    b = np.zeros_like(prediction_vector)\r\n",
        "    b[np.arange(len(prediction_vector)), prediction_vector.argmax(1)] = 1\r\n",
        "    word_vector = np.reshape(b,WORD_SIZE*CHAR_VOCAB_SIZE)\r\n",
        "    word = vec_to_word(word_vector)\r\n",
        "    return word"
      ],
      "id": "Uv8H97kl9p7u",
      "execution_count": 72,
      "outputs": []
    },
    {
      "cell_type": "code",
      "metadata": {
        "id": "XJtEUAaW9eXh"
      },
      "source": [
        "def compare_predictions(predictions,labels):\r\n",
        "    assert len(predictions == len(labels))\r\n",
        "    print (\"True   | Predicted\")\r\n",
        "    for i,prediction in enumerate(predictions):\r\n",
        "        label = labels[i]\r\n",
        "        predicted_word = prediction_to_word(prediction)\r\n",
        "        true_word = vec_to_word(label)\r\n",
        "        print (\"{:7s}|{:10s}\".format(true_word,predicted_word))"
      ],
      "id": "XJtEUAaW9eXh",
      "execution_count": 73,
      "outputs": []
    },
    {
      "cell_type": "code",
      "metadata": {
        "id": "OWvCUMKOz21U"
      },
      "source": [
        "def normalize_data(X):\r\n",
        "    x_mean = X.mean(axis=0)\r\n",
        "    x_std = X.std(axis=0)\r\n",
        "    X = (X - x_mean) / (x_std + 0.00001)\r\n",
        "    return X"
      ],
      "id": "OWvCUMKOz21U",
      "execution_count": 51,
      "outputs": []
    },
    {
      "cell_type": "code",
      "metadata": {
        "id": "WJafG1JCz6NJ"
      },
      "source": [
        "def load_testing_dataset():\r\n",
        "    no_files = len(os.listdir(testing_folder))\r\n",
        "    return load_dataset(testing_folder, 0, no_files)"
      ],
      "id": "WJafG1JCz6NJ",
      "execution_count": 52,
      "outputs": []
    },
    {
      "cell_type": "code",
      "metadata": {
        "id": "rM1JSo7k8yhu"
      },
      "source": [
        "def training_dataset_length():\r\n",
        "    return len(os.listdir(training_folder))"
      ],
      "id": "rM1JSo7k8yhu",
      "execution_count": 64,
      "outputs": []
    },
    {
      "cell_type": "code",
      "metadata": {
        "id": "qhM8bvZz76jj"
      },
      "source": [
        "test_X, test_Y = load_testing_dataset()"
      ],
      "id": "qhM8bvZz76jj",
      "execution_count": 55,
      "outputs": []
    },
    {
      "cell_type": "code",
      "metadata": {
        "id": "ACd4b6B10TWz"
      },
      "source": [
        "X_input = tf.placeholder(tf.float32, [None, 152 * 80])\r\n",
        "X = tf.reshape(X_input, shape=[-1, 152, 80, 1])\r\n",
        "Y_ = tf.placeholder(tf.float32, [None, 5 * NUM_CLASSES])\r\n",
        "learning_rate = 0.001"
      ],
      "id": "ACd4b6B10TWz",
      "execution_count": 56,
      "outputs": []
    },
    {
      "cell_type": "markdown",
      "metadata": {
        "id": "KmcQPsagEYIT"
      },
      "source": [
        "**MODEL DEFINITION**"
      ],
      "id": "KmcQPsagEYIT"
    },
    {
      "cell_type": "code",
      "metadata": {
        "id": "pcXTd8nF0ZJX"
      },
      "source": [
        "def create_fully_connected_weight(shape):\r\n",
        "    return tf.Variable(tf.truncated_normal(shape, stddev=0.1))\r\n",
        "\r\n",
        "\r\n",
        "def create_conv_weight(patch_height, patch_width, input_channel, output_channel):\r\n",
        "    initial = tf.truncated_normal(shape=[patch_height, patch_width, input_channel, output_channel], stddev=0.1)\r\n",
        "    return tf.Variable(initial)\r\n",
        "\r\n",
        "\r\n",
        "def create_bias(shape):\r\n",
        "    initial = 0.1 * tf.random_normal(shape=shape)\r\n",
        "    return tf.Variable(initial)\r\n",
        "\r\n",
        "\r\n",
        "def create_strides(batch_step, height_step, width_step, channel_step):\r\n",
        "    return [batch_step, height_step, width_step, channel_step]\r\n",
        "\r\n",
        "\r\n",
        "def create_conv_layer(input, W, strides, padding='SAME'):\r\n",
        "    return tf.nn.conv2d(input, W, strides, padding)\r\n",
        "\r\n",
        "\r\n",
        "def apply_max_pool(x, ksize, strides, padding='SAME'):\r\n",
        "    return tf.nn.max_pool(x, ksize, strides, padding)"
      ],
      "id": "pcXTd8nF0ZJX",
      "execution_count": 57,
      "outputs": []
    },
    {
      "cell_type": "code",
      "metadata": {
        "colab": {
          "base_uri": "https://localhost:8080/"
        },
        "id": "S9Q6t02T0fod",
        "outputId": "32f9a450-04d1-45d0-c6db-189a90308063"
      },
      "source": [
        "keep_prob = tf.placeholder(tf.float32)\r\n",
        "\r\n",
        "W1 = create_conv_weight(5, 5, 1, 32)\r\n",
        "B1 = create_bias([32])\r\n",
        "strides1 = create_strides(1, 1, 1, 1)\r\n",
        "Y1 = tf.nn.relu(create_conv_layer(X, W1, strides1, padding=\"SAME\") + B1)\r\n",
        "Y1 = apply_max_pool(Y1, [1, 2, 2, 1], [1, 2, 2, 1])\r\n",
        "Y1 = tf.nn.dropout(Y1, keep_prob=keep_prob)\r\n",
        "\r\n",
        "W2 = create_conv_weight(5, 5, 32, 64)\r\n",
        "B2 = create_bias([64])\r\n",
        "strides2 = create_strides(1, 1, 1, 1)\r\n",
        "Y2 = tf.nn.relu(create_conv_layer(Y1, W2, strides2, padding=\"SAME\") + B2)\r\n",
        "Y2 = apply_max_pool(Y2, [1, 2, 2, 1], [1, 2, 2, 1])\r\n",
        "Y2 = tf.nn.dropout(Y2, keep_prob=keep_prob)\r\n",
        "\r\n",
        "W3 = create_conv_weight(5, 5, 64, 128)\r\n",
        "B3 = create_bias([128])\r\n",
        "strides3 = create_strides(1, 1, 1, 1)\r\n",
        "Y3 = tf.nn.relu(create_conv_layer(Y2, W3, strides3, padding=\"SAME\") + B3)\r\n",
        "Y3 = apply_max_pool(Y3, [1, 2, 2, 1], [1, 2, 2, 1])\r\n",
        "Y3 = tf.nn.dropout(Y3, keep_prob=keep_prob)\r\n",
        "\r\n",
        "# keep_prob = tf.placeholder(tf.float32)\r\n",
        "\r\n",
        "Y3 = tf.reshape(Y3, [-1, 19 * 10 * 128])\r\n",
        "\r\n",
        "W4 = create_fully_connected_weight([19 * 10 * 128, 1024])\r\n",
        "B4 = create_bias([1024])\r\n",
        "Y4 = tf.nn.relu(tf.matmul(Y3, W4) + B4)\r\n",
        "Y4 = tf.nn.dropout(Y4, keep_prob=keep_prob)\r\n",
        "\r\n",
        "W5 = create_fully_connected_weight([1024, 5 * NUM_CLASSES])\r\n",
        "B5 = create_bias([5 * NUM_CLASSES])\r\n",
        "Ylogits = tf.matmul(Y4, W5) + B5\r\n",
        "\r\n",
        "cross_entropy = tf.nn.sigmoid_cross_entropy_with_logits(logits = Ylogits,labels = Y_)\r\n",
        "loss = tf.reduce_mean(cross_entropy)\r\n",
        "\r\n",
        "train_step = tf.train.AdamOptimizer(learning_rate=learning_rate).minimize(loss)\r\n",
        "\r\n",
        "# prediction\r\n",
        "predictions = tf.reshape(Ylogits, [-1, 5, NUM_CLASSES])\r\n",
        "Ytrue = tf.reshape(Y_, [-1, 5, NUM_CLASSES])\r\n",
        "correct_prediction = tf.equal(tf.argmax(predictions, 2), tf.argmax(Ytrue, 2))\r\n",
        "\r\n",
        "# Define the accuracy\r\n",
        "accuracy = tf.reduce_mean(tf.cast(correct_prediction, tf.float32))"
      ],
      "id": "S9Q6t02T0fod",
      "execution_count": 61,
      "outputs": [
        {
          "output_type": "stream",
          "text": [
            "WARNING:tensorflow:From /tensorflow-1.15.2/python3.7/tensorflow_core/python/ops/nn_impl.py:183: where (from tensorflow.python.ops.array_ops) is deprecated and will be removed in a future version.\n",
            "Instructions for updating:\n",
            "Use tf.where in 2.0, which has the same broadcast rule as np.where\n"
          ],
          "name": "stdout"
        }
      ]
    },
    {
      "cell_type": "code",
      "metadata": {
        "colab": {
          "base_uri": "https://localhost:8080/"
        },
        "id": "T5NtWT800o6B",
        "outputId": "57e84edd-fb21-4702-e5a4-4e0427c1d1b4"
      },
      "source": [
        "# initialize\r\n",
        "init = tf.initialize_all_variables()\r\n",
        "\r\n",
        "saver = tf.train.Saver()\r\n",
        "\r\n",
        "sess = tf.Session()\r\n",
        "sess.run(init)\r\n",
        "\r\n",
        "n_classes = NUM_CLASSES\r\n",
        "batch_size = 250\r\n",
        "n_epochs = 15\r\n",
        "n_batches_train = int(training_dataset_length() // batch_size)\r\n",
        "print (\"Number of Batches: %d\" % (n_batches_train))"
      ],
      "id": "T5NtWT800o6B",
      "execution_count": 66,
      "outputs": [
        {
          "output_type": "stream",
          "text": [
            "Number of Batches: 4\n"
          ],
          "name": "stdout"
        }
      ]
    },
    {
      "cell_type": "code",
      "metadata": {
        "id": "i_1C02XI8n7u"
      },
      "source": [
        "def all_batches_run_train(n_batches, data=None, labels=None):\r\n",
        "    sum_all_batches_loss = 0\r\n",
        "    sum_all_batches_acc = 0\r\n",
        "    sum_n_samples = 0\r\n",
        "\r\n",
        "    for b in range(n_batches):\r\n",
        "\r\n",
        "        offset = b * batch_size\r\n",
        "        batch_data, batch_labels = load_dataset(training_folder, offset, offset + batch_size)\r\n",
        "        # batch_data = data[offset: offset + batch_size, :]\r\n",
        "        n_samples = batch_data.shape[0]\r\n",
        "\r\n",
        "        # batch_labels = labels[offset: offset + batch_size]\r\n",
        "        # batch_labels = (np.arange(n_classes) == batch_labels[:, None]).astype(np.float32)\r\n",
        "        # print np.shape(batch_data)\r\n",
        "        # print np.shape(batch_labels)\r\n",
        "\r\n",
        "        feed_dict = {X_input: batch_data, Y_: batch_labels, keep_prob: 0.75}\r\n",
        "        _, loss_value, a = sess.run([train_step, loss, accuracy], feed_dict=feed_dict)\r\n",
        "        sum_all_batches_loss += loss_value * n_samples\r\n",
        "        sum_all_batches_acc += a * n_samples\r\n",
        "        sum_n_samples += n_samples\r\n",
        "        if (n_samples != batch_size):\r\n",
        "            print('n_samples =%d' % n_samples)\r\n",
        "\r\n",
        "    print (\"Sum of Samples trained %d\" % (sum_n_samples))\r\n",
        "    return (sum_all_batches_loss / sum_n_samples, sum_all_batches_acc / sum_n_samples)"
      ],
      "id": "i_1C02XI8n7u",
      "execution_count": 79,
      "outputs": []
    },
    {
      "cell_type": "code",
      "metadata": {
        "id": "k8T_nQQV9LgC"
      },
      "source": [
        "def test_epochs(data=None, labels=None):\r\n",
        "    # assert (data.shape[0] == labels.shape[0])\r\n",
        "    # # labels = (np.arange(n_classes) == labels[:, None]).astype(np.float32)\r\n",
        "    # feed_dict = {X_input: data, Y_: labels, keep_prob: 1}\r\n",
        "    # test_a = sess.run([accuracy], feed_dict=feed_dict)\r\n",
        "    return 1"
      ],
      "id": "k8T_nQQV9LgC",
      "execution_count": 68,
      "outputs": []
    },
    {
      "cell_type": "code",
      "metadata": {
        "id": "VaPepnQ89PZ4"
      },
      "source": [
        "def test_and_evaluate(data=None, labels=None):\r\n",
        "    assert (data.shape[0] == labels.shape[0])\r\n",
        "    feed_dict = {X_input: data, Y_: labels, keep_prob: 1}\r\n",
        "    test_results = sess.run([predictions,correct_prediction,accuracy], feed_dict=feed_dict)\r\n",
        "    test_preds = test_results[0]\r\n",
        "    compare_predictions(test_results[0],labels)\r\n",
        "    print (\"Printing Correct Predictions\")\r\n",
        "    print ( test_results[1])\r\n",
        "    #print test_results[1].shape\r\n",
        "    return test_results"
      ],
      "id": "VaPepnQ89PZ4",
      "execution_count": 84,
      "outputs": []
    },
    {
      "cell_type": "code",
      "metadata": {
        "colab": {
          "base_uri": "https://localhost:8080/"
        },
        "id": "ySXpGhjU9QyU",
        "outputId": "8afce38c-55b0-47c3-8def-d82353069ebf"
      },
      "source": [
        "i = 1\r\n",
        "\r\n",
        "train_ac = []\r\n",
        "train_loss = []\r\n",
        "test_ac = []\r\n",
        "for e in range(n_epochs):\r\n",
        "    start_time = time.time()\r\n",
        "    n_data = training_dataset_length()\r\n",
        "    # n_data = train_X.shape[0]\r\n",
        "    # print n_data\r\n",
        "    perm = np.random.permutation(n_data)\r\n",
        "    # train_X = train_X[perm, :]\r\n",
        "    # train_Y = train_Y[perm]\r\n",
        "    mean_loss_per_sample_train, accuracy_per_sample_train = all_batches_run_train(n_batches_train)\r\n",
        "    #test_a = test_epochs(data=test_X, labels=test_Y)\r\n",
        "    print (\"loss after epoch %d = %f: \" % (i, mean_loss_per_sample_train))\r\n",
        "    print (\"train accuracy after epoch %d = %f: \" % (i, accuracy_per_sample_train))\r\n",
        "    #print \"test accuracy after epoch %d = %f: \" % (i, test_a[0])\r\n",
        "    print (\"-----------------------------------\\n\")\r\n",
        "    i = i + 1\r\n",
        "    train_ac.append(accuracy_per_sample_train)\r\n",
        "    train_loss.append(mean_loss_per_sample_train)\r\n",
        "#    test_ac.append(test_a[0])\r\n",
        "\r\n",
        "\r\n",
        "\r\n",
        "print('Done Training')\r\n",
        "save_path = saver.save(sess, \"model.ckpt\")"
      ],
      "id": "ySXpGhjU9QyU",
      "execution_count": 80,
      "outputs": [
        {
          "output_type": "stream",
          "text": [
            "Sum of Samples trained 1000\n",
            "loss after epoch 1 = 27.482387: \n",
            "train accuracy after epoch 1 = 0.027000: \n",
            "-----------------------------------\n",
            "\n",
            "Sum of Samples trained 1000\n",
            "loss after epoch 2 = 4.049715: \n",
            "train accuracy after epoch 2 = 0.039000: \n",
            "-----------------------------------\n",
            "\n",
            "Sum of Samples trained 1000\n",
            "loss after epoch 3 = 1.903239: \n",
            "train accuracy after epoch 3 = 0.049400: \n",
            "-----------------------------------\n",
            "\n",
            "Sum of Samples trained 1000\n",
            "loss after epoch 4 = 0.931968: \n",
            "train accuracy after epoch 4 = 0.046200: \n",
            "-----------------------------------\n",
            "\n",
            "Sum of Samples trained 1000\n",
            "loss after epoch 5 = 0.521235: \n",
            "train accuracy after epoch 5 = 0.048600: \n",
            "-----------------------------------\n",
            "\n",
            "Sum of Samples trained 1000\n",
            "loss after epoch 6 = 0.362641: \n",
            "train accuracy after epoch 6 = 0.048000: \n",
            "-----------------------------------\n",
            "\n",
            "Sum of Samples trained 1000\n",
            "loss after epoch 7 = 0.296186: \n",
            "train accuracy after epoch 7 = 0.044000: \n",
            "-----------------------------------\n",
            "\n",
            "Sum of Samples trained 1000\n",
            "loss after epoch 8 = 0.271803: \n",
            "train accuracy after epoch 8 = 0.040000: \n",
            "-----------------------------------\n",
            "\n",
            "Sum of Samples trained 1000\n",
            "loss after epoch 9 = 0.258142: \n",
            "train accuracy after epoch 9 = 0.038000: \n",
            "-----------------------------------\n",
            "\n",
            "Sum of Samples trained 1000\n",
            "loss after epoch 10 = 0.240006: \n",
            "train accuracy after epoch 10 = 0.040600: \n",
            "-----------------------------------\n",
            "\n",
            "Sum of Samples trained 1000\n",
            "loss after epoch 11 = 0.221322: \n",
            "train accuracy after epoch 11 = 0.042400: \n",
            "-----------------------------------\n",
            "\n",
            "Sum of Samples trained 1000\n",
            "loss after epoch 12 = 0.213397: \n",
            "train accuracy after epoch 12 = 0.042600: \n",
            "-----------------------------------\n",
            "\n",
            "Sum of Samples trained 1000\n",
            "loss after epoch 13 = 0.203761: \n",
            "train accuracy after epoch 13 = 0.043200: \n",
            "-----------------------------------\n",
            "\n",
            "Sum of Samples trained 1000\n",
            "loss after epoch 14 = 0.193955: \n",
            "train accuracy after epoch 14 = 0.048000: \n",
            "-----------------------------------\n",
            "\n",
            "Sum of Samples trained 1000\n",
            "loss after epoch 15 = 0.187986: \n",
            "train accuracy after epoch 15 = 0.043400: \n",
            "-----------------------------------\n",
            "\n",
            "Done Training\n"
          ],
          "name": "stdout"
        }
      ]
    },
    {
      "cell_type": "code",
      "metadata": {
        "colab": {
          "base_uri": "https://localhost:8080/",
          "height": 295
        },
        "id": "eji5pvCi9zu0",
        "outputId": "8e7c6619-613a-4fa3-fbe1-800b37c5af5c"
      },
      "source": [
        "plt.title(\"Training Accuracy over epochs\")\r\n",
        "plt.plot(train_ac, label=\"Training Accuracy\")\r\n",
        "#plt.plot(test_ac, label=\"Test Accuracy\")\r\n",
        "plt.xlabel(\"epoch\")\r\n",
        "plt.legend(loc=4)\r\n",
        "plt.grid(True)\r\n",
        "plt.show()"
      ],
      "id": "eji5pvCi9zu0",
      "execution_count": 81,
      "outputs": [
        {
          "output_type": "display_data",
          "data": {
            "image/png": "[encoded data removed]",
            "text/plain": [
              "<Figure size 432x288 with 1 Axes>"
            ]
          },
          "metadata": {
            "tags": [],
            "needs_background": "light"
          }
        }
      ]
    },
    {
      "cell_type": "code",
      "metadata": {
        "colab": {
          "base_uri": "https://localhost:8080/",
          "height": 295
        },
        "id": "ogHstnl596AN",
        "outputId": "cdd6d52e-1a2f-4ce6-eca9-2905128fdd8a"
      },
      "source": [
        "plt.title(\"Training loss over epochs\")\r\n",
        "plt.plot(train_loss, label=\"Training Loss\")\r\n",
        "plt.xlabel(\"epoch\")\r\n",
        "plt.grid(True)\r\n",
        "plt.show()"
      ],
      "id": "ogHstnl596AN",
      "execution_count": 82,
      "outputs": [
        {
          "output_type": "display_data",
          "data": {
            "image/png": "[encoded data removed]",
            "text/plain": [
              "<Figure size 432x288 with 1 Axes>"
            ]
          },
          "metadata": {
            "tags": [],
            "needs_background": "light"
          }
        }
      ]
    },
    {
      "cell_type": "code",
      "metadata": {
        "id": "nmPYjiih97TS"
      },
      "source": [
        "test_results = test_and_evaluate(data=test_X, labels=test_Y)\r\n",
        "print('Done Testing')\r\n",
        "print(\"Test Accuracy \" + str(test_results[2]))"
      ],
      "id": "nmPYjiih97TS",
      "execution_count": null,
      "outputs": []
    },
    {
      "cell_type": "code",
      "metadata": {
        "id": "NEFKAvwF-Drn"
      },
      "source": [
        ""
      ],
      "id": "NEFKAvwF-Drn",
      "execution_count": null,
      "outputs": []
    }
  ]
}